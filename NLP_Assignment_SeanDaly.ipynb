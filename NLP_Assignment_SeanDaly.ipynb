{
  "cells": [
    {
      "cell_type": "markdown",
      "metadata": {
        "id": "view-in-github",
        "colab_type": "text"
      },
      "source": [
        "<a href=\"https://colab.research.google.com/github/dalysean01/NLP_Assignment_SeanDaly./blob/main/NLP_Assignment_SeanDaly.ipynb\" target=\"_parent\"><img src=\"https://colab.research.google.com/assets/colab-badge.svg\" alt=\"Open In Colab\"/></a>"
      ]
    },
    {
      "cell_type": "markdown",
      "metadata": {
        "id": "c_Z-i5i_PcHf"
      },
      "source": []
    },
    {
      "cell_type": "markdown",
      "metadata": {
        "id": "yV9WW7voPcHj"
      },
      "source": [
        "# Natural Language Processing </a>\n",
        "\n",
        "## Assignment: K Nearest Neighbors Model for the IMDB Movie Review Dataset\n",
        "\n",
        "For the final project, build a K Nearest Neighbors model to predict the sentiment (positive or negative) of movie reviews. The dataset is originally hosted here: http://ai.stanford.edu/~amaas/data/sentiment/\n",
        "\n",
        "Use the notebooks from the class and implement the model, train and test with the corresponding datasets.\n",
        "\n",
        "You can follow these steps:\n",
        "1. Read training-test data (Given)\n",
        "2. Train a KNN classifier (Implement)\n",
        "3. Make predictions on your test dataset (Implement)\n",
        "\n",
        "__You can use the KNN Classifier from here: https://scikit-learn.org/stable/modules/generated/sklearn.neighbors.KNeighborsClassifier.html__"
      ]
    },
    {
      "cell_type": "markdown",
      "metadata": {
        "id": "Qf9gzc3NPcHm"
      },
      "source": [
        "## 1. Reading the dataset\n",
        "\n",
        "We will use the __pandas__ library to read our dataset."
      ]
    },
    {
      "cell_type": "markdown",
      "metadata": {
        "id": "6R1S95FYPcHm"
      },
      "source": [
        "#### __Training data:__\n",
        "Let's read our training data. Here, we have the text and label fields. Labe is 1 for positive reviews and 0 for negative reviews."
      ]
    },
    {
      "cell_type": "code",
      "execution_count": null,
      "metadata": {
        "colab": {
          "base_uri": "https://localhost:8080/",
          "height": 206
        },
        "id": "imYuQ2EcPcHn",
        "outputId": "ec09f40a-0811-4929-d2e8-44bb11172640"
      },
      "outputs": [
        {
          "output_type": "execute_result",
          "data": {
            "text/plain": [
              "                                                text  label\n",
              "0  This movie makes me want to throw up every tim...      0\n",
              "1  Listening to the director's commentary confirm...      0\n",
              "2  One of the best Tarzan films is also one of it...      1\n",
              "3  Valentine is now one of my favorite slasher fi...      1\n",
              "4  No mention if Ann Rivers Siddons adapted the m...      0"
            ],
            "text/html": [
              "\n",
              "  <div id=\"df-4bcb37be-f0cb-4658-946e-233f6ea3c473\" class=\"colab-df-container\">\n",
              "    <div>\n",
              "<style scoped>\n",
              "    .dataframe tbody tr th:only-of-type {\n",
              "        vertical-align: middle;\n",
              "    }\n",
              "\n",
              "    .dataframe tbody tr th {\n",
              "        vertical-align: top;\n",
              "    }\n",
              "\n",
              "    .dataframe thead th {\n",
              "        text-align: right;\n",
              "    }\n",
              "</style>\n",
              "<table border=\"1\" class=\"dataframe\">\n",
              "  <thead>\n",
              "    <tr style=\"text-align: right;\">\n",
              "      <th></th>\n",
              "      <th>text</th>\n",
              "      <th>label</th>\n",
              "    </tr>\n",
              "  </thead>\n",
              "  <tbody>\n",
              "    <tr>\n",
              "      <th>0</th>\n",
              "      <td>This movie makes me want to throw up every tim...</td>\n",
              "      <td>0</td>\n",
              "    </tr>\n",
              "    <tr>\n",
              "      <th>1</th>\n",
              "      <td>Listening to the director's commentary confirm...</td>\n",
              "      <td>0</td>\n",
              "    </tr>\n",
              "    <tr>\n",
              "      <th>2</th>\n",
              "      <td>One of the best Tarzan films is also one of it...</td>\n",
              "      <td>1</td>\n",
              "    </tr>\n",
              "    <tr>\n",
              "      <th>3</th>\n",
              "      <td>Valentine is now one of my favorite slasher fi...</td>\n",
              "      <td>1</td>\n",
              "    </tr>\n",
              "    <tr>\n",
              "      <th>4</th>\n",
              "      <td>No mention if Ann Rivers Siddons adapted the m...</td>\n",
              "      <td>0</td>\n",
              "    </tr>\n",
              "  </tbody>\n",
              "</table>\n",
              "</div>\n",
              "    <div class=\"colab-df-buttons\">\n",
              "\n",
              "  <div class=\"colab-df-container\">\n",
              "    <button class=\"colab-df-convert\" onclick=\"convertToInteractive('df-4bcb37be-f0cb-4658-946e-233f6ea3c473')\"\n",
              "            title=\"Convert this dataframe to an interactive table.\"\n",
              "            style=\"display:none;\">\n",
              "\n",
              "  <svg xmlns=\"http://www.w3.org/2000/svg\" height=\"24px\" viewBox=\"0 -960 960 960\">\n",
              "    <path d=\"M120-120v-720h720v720H120Zm60-500h600v-160H180v160Zm220 220h160v-160H400v160Zm0 220h160v-160H400v160ZM180-400h160v-160H180v160Zm440 0h160v-160H620v160ZM180-180h160v-160H180v160Zm440 0h160v-160H620v160Z\"/>\n",
              "  </svg>\n",
              "    </button>\n",
              "\n",
              "  <style>\n",
              "    .colab-df-container {\n",
              "      display:flex;\n",
              "      gap: 12px;\n",
              "    }\n",
              "\n",
              "    .colab-df-convert {\n",
              "      background-color: #E8F0FE;\n",
              "      border: none;\n",
              "      border-radius: 50%;\n",
              "      cursor: pointer;\n",
              "      display: none;\n",
              "      fill: #1967D2;\n",
              "      height: 32px;\n",
              "      padding: 0 0 0 0;\n",
              "      width: 32px;\n",
              "    }\n",
              "\n",
              "    .colab-df-convert:hover {\n",
              "      background-color: #E2EBFA;\n",
              "      box-shadow: 0px 1px 2px rgba(60, 64, 67, 0.3), 0px 1px 3px 1px rgba(60, 64, 67, 0.15);\n",
              "      fill: #174EA6;\n",
              "    }\n",
              "\n",
              "    .colab-df-buttons div {\n",
              "      margin-bottom: 4px;\n",
              "    }\n",
              "\n",
              "    [theme=dark] .colab-df-convert {\n",
              "      background-color: #3B4455;\n",
              "      fill: #D2E3FC;\n",
              "    }\n",
              "\n",
              "    [theme=dark] .colab-df-convert:hover {\n",
              "      background-color: #434B5C;\n",
              "      box-shadow: 0px 1px 3px 1px rgba(0, 0, 0, 0.15);\n",
              "      filter: drop-shadow(0px 1px 2px rgba(0, 0, 0, 0.3));\n",
              "      fill: #FFFFFF;\n",
              "    }\n",
              "  </style>\n",
              "\n",
              "    <script>\n",
              "      const buttonEl =\n",
              "        document.querySelector('#df-4bcb37be-f0cb-4658-946e-233f6ea3c473 button.colab-df-convert');\n",
              "      buttonEl.style.display =\n",
              "        google.colab.kernel.accessAllowed ? 'block' : 'none';\n",
              "\n",
              "      async function convertToInteractive(key) {\n",
              "        const element = document.querySelector('#df-4bcb37be-f0cb-4658-946e-233f6ea3c473');\n",
              "        const dataTable =\n",
              "          await google.colab.kernel.invokeFunction('convertToInteractive',\n",
              "                                                    [key], {});\n",
              "        if (!dataTable) return;\n",
              "\n",
              "        const docLinkHtml = 'Like what you see? Visit the ' +\n",
              "          '<a target=\"_blank\" href=https://colab.research.google.com/notebooks/data_table.ipynb>data table notebook</a>'\n",
              "          + ' to learn more about interactive tables.';\n",
              "        element.innerHTML = '';\n",
              "        dataTable['output_type'] = 'display_data';\n",
              "        await google.colab.output.renderOutput(dataTable, element);\n",
              "        const docLink = document.createElement('div');\n",
              "        docLink.innerHTML = docLinkHtml;\n",
              "        element.appendChild(docLink);\n",
              "      }\n",
              "    </script>\n",
              "  </div>\n",
              "\n",
              "\n",
              "<div id=\"df-6fd7a48a-f6d1-4b7c-a6f2-06fe6b2ab7cb\">\n",
              "  <button class=\"colab-df-quickchart\" onclick=\"quickchart('df-6fd7a48a-f6d1-4b7c-a6f2-06fe6b2ab7cb')\"\n",
              "            title=\"Suggest charts.\"\n",
              "            style=\"display:none;\">\n",
              "\n",
              "<svg xmlns=\"http://www.w3.org/2000/svg\" height=\"24px\"viewBox=\"0 0 24 24\"\n",
              "     width=\"24px\">\n",
              "    <g>\n",
              "        <path d=\"M19 3H5c-1.1 0-2 .9-2 2v14c0 1.1.9 2 2 2h14c1.1 0 2-.9 2-2V5c0-1.1-.9-2-2-2zM9 17H7v-7h2v7zm4 0h-2V7h2v10zm4 0h-2v-4h2v4z\"/>\n",
              "    </g>\n",
              "</svg>\n",
              "  </button>\n",
              "\n",
              "<style>\n",
              "  .colab-df-quickchart {\n",
              "      --bg-color: #E8F0FE;\n",
              "      --fill-color: #1967D2;\n",
              "      --hover-bg-color: #E2EBFA;\n",
              "      --hover-fill-color: #174EA6;\n",
              "      --disabled-fill-color: #AAA;\n",
              "      --disabled-bg-color: #DDD;\n",
              "  }\n",
              "\n",
              "  [theme=dark] .colab-df-quickchart {\n",
              "      --bg-color: #3B4455;\n",
              "      --fill-color: #D2E3FC;\n",
              "      --hover-bg-color: #434B5C;\n",
              "      --hover-fill-color: #FFFFFF;\n",
              "      --disabled-bg-color: #3B4455;\n",
              "      --disabled-fill-color: #666;\n",
              "  }\n",
              "\n",
              "  .colab-df-quickchart {\n",
              "    background-color: var(--bg-color);\n",
              "    border: none;\n",
              "    border-radius: 50%;\n",
              "    cursor: pointer;\n",
              "    display: none;\n",
              "    fill: var(--fill-color);\n",
              "    height: 32px;\n",
              "    padding: 0;\n",
              "    width: 32px;\n",
              "  }\n",
              "\n",
              "  .colab-df-quickchart:hover {\n",
              "    background-color: var(--hover-bg-color);\n",
              "    box-shadow: 0 1px 2px rgba(60, 64, 67, 0.3), 0 1px 3px 1px rgba(60, 64, 67, 0.15);\n",
              "    fill: var(--button-hover-fill-color);\n",
              "  }\n",
              "\n",
              "  .colab-df-quickchart-complete:disabled,\n",
              "  .colab-df-quickchart-complete:disabled:hover {\n",
              "    background-color: var(--disabled-bg-color);\n",
              "    fill: var(--disabled-fill-color);\n",
              "    box-shadow: none;\n",
              "  }\n",
              "\n",
              "  .colab-df-spinner {\n",
              "    border: 2px solid var(--fill-color);\n",
              "    border-color: transparent;\n",
              "    border-bottom-color: var(--fill-color);\n",
              "    animation:\n",
              "      spin 1s steps(1) infinite;\n",
              "  }\n",
              "\n",
              "  @keyframes spin {\n",
              "    0% {\n",
              "      border-color: transparent;\n",
              "      border-bottom-color: var(--fill-color);\n",
              "      border-left-color: var(--fill-color);\n",
              "    }\n",
              "    20% {\n",
              "      border-color: transparent;\n",
              "      border-left-color: var(--fill-color);\n",
              "      border-top-color: var(--fill-color);\n",
              "    }\n",
              "    30% {\n",
              "      border-color: transparent;\n",
              "      border-left-color: var(--fill-color);\n",
              "      border-top-color: var(--fill-color);\n",
              "      border-right-color: var(--fill-color);\n",
              "    }\n",
              "    40% {\n",
              "      border-color: transparent;\n",
              "      border-right-color: var(--fill-color);\n",
              "      border-top-color: var(--fill-color);\n",
              "    }\n",
              "    60% {\n",
              "      border-color: transparent;\n",
              "      border-right-color: var(--fill-color);\n",
              "    }\n",
              "    80% {\n",
              "      border-color: transparent;\n",
              "      border-right-color: var(--fill-color);\n",
              "      border-bottom-color: var(--fill-color);\n",
              "    }\n",
              "    90% {\n",
              "      border-color: transparent;\n",
              "      border-bottom-color: var(--fill-color);\n",
              "    }\n",
              "  }\n",
              "</style>\n",
              "\n",
              "  <script>\n",
              "    async function quickchart(key) {\n",
              "      const quickchartButtonEl =\n",
              "        document.querySelector('#' + key + ' button');\n",
              "      quickchartButtonEl.disabled = true;  // To prevent multiple clicks.\n",
              "      quickchartButtonEl.classList.add('colab-df-spinner');\n",
              "      try {\n",
              "        const charts = await google.colab.kernel.invokeFunction(\n",
              "            'suggestCharts', [key], {});\n",
              "      } catch (error) {\n",
              "        console.error('Error during call to suggestCharts:', error);\n",
              "      }\n",
              "      quickchartButtonEl.classList.remove('colab-df-spinner');\n",
              "      quickchartButtonEl.classList.add('colab-df-quickchart-complete');\n",
              "    }\n",
              "    (() => {\n",
              "      let quickchartButtonEl =\n",
              "        document.querySelector('#df-6fd7a48a-f6d1-4b7c-a6f2-06fe6b2ab7cb button');\n",
              "      quickchartButtonEl.style.display =\n",
              "        google.colab.kernel.accessAllowed ? 'block' : 'none';\n",
              "    })();\n",
              "  </script>\n",
              "</div>\n",
              "    </div>\n",
              "  </div>\n"
            ]
          },
          "metadata": {},
          "execution_count": 54
        }
      ],
      "source": [
        "import pandas as pd\n",
        "\n",
        "train_df = pd.read_csv('https://raw.githubusercontent.com/aws-samples/aws-machine-learning-university-accelerated-nlp/master/data/final_project/imdb_train.csv', header=0)\n",
        "train_df.head()"
      ]
    },
    {
      "cell_type": "markdown",
      "metadata": {
        "id": "h5c7uQRYPcHn"
      },
      "source": [
        "#### __Test data:__"
      ]
    },
    {
      "cell_type": "code",
      "execution_count": null,
      "metadata": {
        "colab": {
          "base_uri": "https://localhost:8080/",
          "height": 206
        },
        "id": "DiBpa04fPcHo",
        "outputId": "d85ff0e1-e4b5-4f97-8c79-ee0d7bc34833"
      },
      "outputs": [
        {
          "output_type": "execute_result",
          "data": {
            "text/plain": [
              "                                                text  label\n",
              "0  What I hoped for (or even expected) was the we...      0\n",
              "1  Garden State must rate amongst the most contri...      0\n",
              "2  There is a lot wrong with this film. I will no...      1\n",
              "3  To qualify my use of \"realistic\" in the summar...      1\n",
              "4  Dirty War is absolutely one of the best politi...      1"
            ],
            "text/html": [
              "\n",
              "  <div id=\"df-018cab76-1a98-415a-9811-b8c29cad8c89\" class=\"colab-df-container\">\n",
              "    <div>\n",
              "<style scoped>\n",
              "    .dataframe tbody tr th:only-of-type {\n",
              "        vertical-align: middle;\n",
              "    }\n",
              "\n",
              "    .dataframe tbody tr th {\n",
              "        vertical-align: top;\n",
              "    }\n",
              "\n",
              "    .dataframe thead th {\n",
              "        text-align: right;\n",
              "    }\n",
              "</style>\n",
              "<table border=\"1\" class=\"dataframe\">\n",
              "  <thead>\n",
              "    <tr style=\"text-align: right;\">\n",
              "      <th></th>\n",
              "      <th>text</th>\n",
              "      <th>label</th>\n",
              "    </tr>\n",
              "  </thead>\n",
              "  <tbody>\n",
              "    <tr>\n",
              "      <th>0</th>\n",
              "      <td>What I hoped for (or even expected) was the we...</td>\n",
              "      <td>0</td>\n",
              "    </tr>\n",
              "    <tr>\n",
              "      <th>1</th>\n",
              "      <td>Garden State must rate amongst the most contri...</td>\n",
              "      <td>0</td>\n",
              "    </tr>\n",
              "    <tr>\n",
              "      <th>2</th>\n",
              "      <td>There is a lot wrong with this film. I will no...</td>\n",
              "      <td>1</td>\n",
              "    </tr>\n",
              "    <tr>\n",
              "      <th>3</th>\n",
              "      <td>To qualify my use of \"realistic\" in the summar...</td>\n",
              "      <td>1</td>\n",
              "    </tr>\n",
              "    <tr>\n",
              "      <th>4</th>\n",
              "      <td>Dirty War is absolutely one of the best politi...</td>\n",
              "      <td>1</td>\n",
              "    </tr>\n",
              "  </tbody>\n",
              "</table>\n",
              "</div>\n",
              "    <div class=\"colab-df-buttons\">\n",
              "\n",
              "  <div class=\"colab-df-container\">\n",
              "    <button class=\"colab-df-convert\" onclick=\"convertToInteractive('df-018cab76-1a98-415a-9811-b8c29cad8c89')\"\n",
              "            title=\"Convert this dataframe to an interactive table.\"\n",
              "            style=\"display:none;\">\n",
              "\n",
              "  <svg xmlns=\"http://www.w3.org/2000/svg\" height=\"24px\" viewBox=\"0 -960 960 960\">\n",
              "    <path d=\"M120-120v-720h720v720H120Zm60-500h600v-160H180v160Zm220 220h160v-160H400v160Zm0 220h160v-160H400v160ZM180-400h160v-160H180v160Zm440 0h160v-160H620v160ZM180-180h160v-160H180v160Zm440 0h160v-160H620v160Z\"/>\n",
              "  </svg>\n",
              "    </button>\n",
              "\n",
              "  <style>\n",
              "    .colab-df-container {\n",
              "      display:flex;\n",
              "      gap: 12px;\n",
              "    }\n",
              "\n",
              "    .colab-df-convert {\n",
              "      background-color: #E8F0FE;\n",
              "      border: none;\n",
              "      border-radius: 50%;\n",
              "      cursor: pointer;\n",
              "      display: none;\n",
              "      fill: #1967D2;\n",
              "      height: 32px;\n",
              "      padding: 0 0 0 0;\n",
              "      width: 32px;\n",
              "    }\n",
              "\n",
              "    .colab-df-convert:hover {\n",
              "      background-color: #E2EBFA;\n",
              "      box-shadow: 0px 1px 2px rgba(60, 64, 67, 0.3), 0px 1px 3px 1px rgba(60, 64, 67, 0.15);\n",
              "      fill: #174EA6;\n",
              "    }\n",
              "\n",
              "    .colab-df-buttons div {\n",
              "      margin-bottom: 4px;\n",
              "    }\n",
              "\n",
              "    [theme=dark] .colab-df-convert {\n",
              "      background-color: #3B4455;\n",
              "      fill: #D2E3FC;\n",
              "    }\n",
              "\n",
              "    [theme=dark] .colab-df-convert:hover {\n",
              "      background-color: #434B5C;\n",
              "      box-shadow: 0px 1px 3px 1px rgba(0, 0, 0, 0.15);\n",
              "      filter: drop-shadow(0px 1px 2px rgba(0, 0, 0, 0.3));\n",
              "      fill: #FFFFFF;\n",
              "    }\n",
              "  </style>\n",
              "\n",
              "    <script>\n",
              "      const buttonEl =\n",
              "        document.querySelector('#df-018cab76-1a98-415a-9811-b8c29cad8c89 button.colab-df-convert');\n",
              "      buttonEl.style.display =\n",
              "        google.colab.kernel.accessAllowed ? 'block' : 'none';\n",
              "\n",
              "      async function convertToInteractive(key) {\n",
              "        const element = document.querySelector('#df-018cab76-1a98-415a-9811-b8c29cad8c89');\n",
              "        const dataTable =\n",
              "          await google.colab.kernel.invokeFunction('convertToInteractive',\n",
              "                                                    [key], {});\n",
              "        if (!dataTable) return;\n",
              "\n",
              "        const docLinkHtml = 'Like what you see? Visit the ' +\n",
              "          '<a target=\"_blank\" href=https://colab.research.google.com/notebooks/data_table.ipynb>data table notebook</a>'\n",
              "          + ' to learn more about interactive tables.';\n",
              "        element.innerHTML = '';\n",
              "        dataTable['output_type'] = 'display_data';\n",
              "        await google.colab.output.renderOutput(dataTable, element);\n",
              "        const docLink = document.createElement('div');\n",
              "        docLink.innerHTML = docLinkHtml;\n",
              "        element.appendChild(docLink);\n",
              "      }\n",
              "    </script>\n",
              "  </div>\n",
              "\n",
              "\n",
              "<div id=\"df-7daae13d-54f7-4c41-833a-17aeba7cd9a0\">\n",
              "  <button class=\"colab-df-quickchart\" onclick=\"quickchart('df-7daae13d-54f7-4c41-833a-17aeba7cd9a0')\"\n",
              "            title=\"Suggest charts.\"\n",
              "            style=\"display:none;\">\n",
              "\n",
              "<svg xmlns=\"http://www.w3.org/2000/svg\" height=\"24px\"viewBox=\"0 0 24 24\"\n",
              "     width=\"24px\">\n",
              "    <g>\n",
              "        <path d=\"M19 3H5c-1.1 0-2 .9-2 2v14c0 1.1.9 2 2 2h14c1.1 0 2-.9 2-2V5c0-1.1-.9-2-2-2zM9 17H7v-7h2v7zm4 0h-2V7h2v10zm4 0h-2v-4h2v4z\"/>\n",
              "    </g>\n",
              "</svg>\n",
              "  </button>\n",
              "\n",
              "<style>\n",
              "  .colab-df-quickchart {\n",
              "      --bg-color: #E8F0FE;\n",
              "      --fill-color: #1967D2;\n",
              "      --hover-bg-color: #E2EBFA;\n",
              "      --hover-fill-color: #174EA6;\n",
              "      --disabled-fill-color: #AAA;\n",
              "      --disabled-bg-color: #DDD;\n",
              "  }\n",
              "\n",
              "  [theme=dark] .colab-df-quickchart {\n",
              "      --bg-color: #3B4455;\n",
              "      --fill-color: #D2E3FC;\n",
              "      --hover-bg-color: #434B5C;\n",
              "      --hover-fill-color: #FFFFFF;\n",
              "      --disabled-bg-color: #3B4455;\n",
              "      --disabled-fill-color: #666;\n",
              "  }\n",
              "\n",
              "  .colab-df-quickchart {\n",
              "    background-color: var(--bg-color);\n",
              "    border: none;\n",
              "    border-radius: 50%;\n",
              "    cursor: pointer;\n",
              "    display: none;\n",
              "    fill: var(--fill-color);\n",
              "    height: 32px;\n",
              "    padding: 0;\n",
              "    width: 32px;\n",
              "  }\n",
              "\n",
              "  .colab-df-quickchart:hover {\n",
              "    background-color: var(--hover-bg-color);\n",
              "    box-shadow: 0 1px 2px rgba(60, 64, 67, 0.3), 0 1px 3px 1px rgba(60, 64, 67, 0.15);\n",
              "    fill: var(--button-hover-fill-color);\n",
              "  }\n",
              "\n",
              "  .colab-df-quickchart-complete:disabled,\n",
              "  .colab-df-quickchart-complete:disabled:hover {\n",
              "    background-color: var(--disabled-bg-color);\n",
              "    fill: var(--disabled-fill-color);\n",
              "    box-shadow: none;\n",
              "  }\n",
              "\n",
              "  .colab-df-spinner {\n",
              "    border: 2px solid var(--fill-color);\n",
              "    border-color: transparent;\n",
              "    border-bottom-color: var(--fill-color);\n",
              "    animation:\n",
              "      spin 1s steps(1) infinite;\n",
              "  }\n",
              "\n",
              "  @keyframes spin {\n",
              "    0% {\n",
              "      border-color: transparent;\n",
              "      border-bottom-color: var(--fill-color);\n",
              "      border-left-color: var(--fill-color);\n",
              "    }\n",
              "    20% {\n",
              "      border-color: transparent;\n",
              "      border-left-color: var(--fill-color);\n",
              "      border-top-color: var(--fill-color);\n",
              "    }\n",
              "    30% {\n",
              "      border-color: transparent;\n",
              "      border-left-color: var(--fill-color);\n",
              "      border-top-color: var(--fill-color);\n",
              "      border-right-color: var(--fill-color);\n",
              "    }\n",
              "    40% {\n",
              "      border-color: transparent;\n",
              "      border-right-color: var(--fill-color);\n",
              "      border-top-color: var(--fill-color);\n",
              "    }\n",
              "    60% {\n",
              "      border-color: transparent;\n",
              "      border-right-color: var(--fill-color);\n",
              "    }\n",
              "    80% {\n",
              "      border-color: transparent;\n",
              "      border-right-color: var(--fill-color);\n",
              "      border-bottom-color: var(--fill-color);\n",
              "    }\n",
              "    90% {\n",
              "      border-color: transparent;\n",
              "      border-bottom-color: var(--fill-color);\n",
              "    }\n",
              "  }\n",
              "</style>\n",
              "\n",
              "  <script>\n",
              "    async function quickchart(key) {\n",
              "      const quickchartButtonEl =\n",
              "        document.querySelector('#' + key + ' button');\n",
              "      quickchartButtonEl.disabled = true;  // To prevent multiple clicks.\n",
              "      quickchartButtonEl.classList.add('colab-df-spinner');\n",
              "      try {\n",
              "        const charts = await google.colab.kernel.invokeFunction(\n",
              "            'suggestCharts', [key], {});\n",
              "      } catch (error) {\n",
              "        console.error('Error during call to suggestCharts:', error);\n",
              "      }\n",
              "      quickchartButtonEl.classList.remove('colab-df-spinner');\n",
              "      quickchartButtonEl.classList.add('colab-df-quickchart-complete');\n",
              "    }\n",
              "    (() => {\n",
              "      let quickchartButtonEl =\n",
              "        document.querySelector('#df-7daae13d-54f7-4c41-833a-17aeba7cd9a0 button');\n",
              "      quickchartButtonEl.style.display =\n",
              "        google.colab.kernel.accessAllowed ? 'block' : 'none';\n",
              "    })();\n",
              "  </script>\n",
              "</div>\n",
              "    </div>\n",
              "  </div>\n"
            ]
          },
          "metadata": {},
          "execution_count": 55
        }
      ],
      "source": [
        "import pandas as pd\n",
        "\n",
        "test_df = pd.read_csv('https://raw.githubusercontent.com/aws-samples/aws-machine-learning-university-accelerated-nlp/master/data/final_project/imdb_test.csv', header=0)\n",
        "test_df.head()"
      ]
    },
    {
      "cell_type": "markdown",
      "metadata": {
        "id": "_n7O1xvmPcHp"
      },
      "source": [
        "## 2. Train a KNN Classifier\n",
        "Here, you will apply pre-processing operations we covered in the class. Then, you can split your dataset to training and validation here. For your first submission, you will use __K Nearest Neighbors Classifier__. It is available [here](https://scikit-learn.org/stable/modules/generated/sklearn.neighbors.KNeighborsClassifier.html)."
      ]
    },
    {
      "cell_type": "code",
      "execution_count": null,
      "metadata": {
        "colab": {
          "base_uri": "https://localhost:8080/"
        },
        "id": "5f90bOZGPcHp",
        "outputId": "943281a3-f95e-4c8f-c198-e08657cc73de"
      },
      "outputs": [
        {
          "output_type": "stream",
          "name": "stderr",
          "text": [
            "[nltk_data] Downloading package punkt to /root/nltk_data...\n",
            "[nltk_data]   Package punkt is already up-to-date!\n",
            "[nltk_data] Downloading package stopwords to /root/nltk_data...\n",
            "[nltk_data]   Package stopwords is already up-to-date!\n"
          ]
        },
        {
          "output_type": "execute_result",
          "data": {
            "text/plain": [
              "True"
            ]
          },
          "metadata": {},
          "execution_count": 56
        }
      ],
      "source": [
        "import nltk\n",
        "\n",
        "nltk.download('punkt')\n",
        "nltk.download('stopwords')\n",
        "\n"
      ]
    },
    {
      "cell_type": "code",
      "execution_count": null,
      "metadata": {
        "id": "IfhFIOdJXL3j"
      },
      "outputs": [],
      "source": [
        "import nltk, re\n",
        "from nltk.corpus import stopwords\n",
        "from nltk.stem import SnowballStemmer\n",
        "from nltk.tokenize import word_tokenize\n",
        "\n",
        "# Let's get a list of stop words from the NLTK library\n",
        "stop = stopwords.words('english')\n",
        "\n",
        "# These words are important for our problem. We don't want to remove them.\n",
        "excluding = ['against', 'not', 'don', \"don't\",'ain', 'aren', \"aren't\", 'couldn', \"couldn't\",\n",
        "             'didn', \"didn't\", 'doesn', \"doesn't\", 'hadn', \"hadn't\", 'hasn', \"hasn't\",\n",
        "             'haven', \"haven't\", 'isn', \"isn't\", 'mightn', \"mightn't\", 'mustn', \"mustn't\",\n",
        "             'needn', \"needn't\",'shouldn', \"shouldn't\", 'wasn', \"wasn't\", 'weren',\n",
        "             \"weren't\", 'won', \"won't\", 'wouldn', \"wouldn't\"]\n",
        "\n",
        "# New stop word list\n",
        "stop_words = [word for word in stop if word not in excluding]\n",
        "\n",
        "snow = SnowballStemmer('english')\n",
        "\n",
        "def process_text(texts):\n",
        "    final_text_list=[]\n",
        "    for sent in texts:\n",
        "\n",
        "        # Check if the sentence is a missing value\n",
        "        if isinstance(sent, str) == False:\n",
        "            sent = \"\"\n",
        "\n",
        "        filtered_sentence=[]\n",
        "\n",
        "        sent = sent.lower() # Lowercase\n",
        "        sent = sent.strip() # Remove leading/trailing whitespace\n",
        "        sent = re.sub('\\s+', ' ', sent) # Remove extra space and tabs\n",
        "        sent = re.compile('<.*?>').sub('', sent) # Remove HTML tags/markups:\n",
        "\n",
        "        for w in word_tokenize(sent):\n",
        "            # We are applying some custom filtering here, feel free to try different things\n",
        "            # Check if it is not numeric and its length>2 and not in stop words\n",
        "            if(not w.isnumeric()) and (len(w)>2) and (w not in stop_words):\n",
        "                # Stem and add to filtered list\n",
        "                filtered_sentence.append(snow.stem(w))\n",
        "        final_string = \" \".join(filtered_sentence) #final string of cleaned words\n",
        "\n",
        "        final_text_list.append(final_string)\n",
        "\n",
        "    return final_text_list"
      ]
    },
    {
      "cell_type": "code",
      "execution_count": null,
      "metadata": {
        "colab": {
          "base_uri": "https://localhost:8080/"
        },
        "id": "KRYoyFDtfmtF",
        "outputId": "34250b8a-9dca-4c36-a566-d60bee9aab47"
      },
      "outputs": [
        {
          "output_type": "stream",
          "name": "stdout",
          "text": [
            "Processing the text field\n"
          ]
        }
      ],
      "source": [
        "print(\"Processing the text field\")\n",
        "train_text_list = process_text(train_df[\"text\"].tolist())\n",
        "test_text_list = process_text(test_df[\"text\"].tolist())\n",
        "\n",
        "y_train= train_df[\"label\"].tolist()\n",
        "y_test= test_df[\"label\"].tolist()"
      ]
    },
    {
      "cell_type": "code",
      "execution_count": null,
      "metadata": {
        "colab": {
          "base_uri": "https://localhost:8080/",
          "height": 124
        },
        "id": "UGKD6nPxaEex",
        "outputId": "e24d3018-1313-45f4-e5b1-39434bd7688f"
      },
      "outputs": [
        {
          "output_type": "execute_result",
          "data": {
            "text/plain": [
              "Pipeline(steps=[('text_vect', CountVectorizer(max_features=10)),\n",
              "                ('knn', KNeighborsClassifier())])"
            ],
            "text/html": [
              "<style>#sk-container-id-22 {color: black;background-color: white;}#sk-container-id-22 pre{padding: 0;}#sk-container-id-22 div.sk-toggleable {background-color: white;}#sk-container-id-22 label.sk-toggleable__label {cursor: pointer;display: block;width: 100%;margin-bottom: 0;padding: 0.3em;box-sizing: border-box;text-align: center;}#sk-container-id-22 label.sk-toggleable__label-arrow:before {content: \"▸\";float: left;margin-right: 0.25em;color: #696969;}#sk-container-id-22 label.sk-toggleable__label-arrow:hover:before {color: black;}#sk-container-id-22 div.sk-estimator:hover label.sk-toggleable__label-arrow:before {color: black;}#sk-container-id-22 div.sk-toggleable__content {max-height: 0;max-width: 0;overflow: hidden;text-align: left;background-color: #f0f8ff;}#sk-container-id-22 div.sk-toggleable__content pre {margin: 0.2em;color: black;border-radius: 0.25em;background-color: #f0f8ff;}#sk-container-id-22 input.sk-toggleable__control:checked~div.sk-toggleable__content {max-height: 200px;max-width: 100%;overflow: auto;}#sk-container-id-22 input.sk-toggleable__control:checked~label.sk-toggleable__label-arrow:before {content: \"▾\";}#sk-container-id-22 div.sk-estimator input.sk-toggleable__control:checked~label.sk-toggleable__label {background-color: #d4ebff;}#sk-container-id-22 div.sk-label input.sk-toggleable__control:checked~label.sk-toggleable__label {background-color: #d4ebff;}#sk-container-id-22 input.sk-hidden--visually {border: 0;clip: rect(1px 1px 1px 1px);clip: rect(1px, 1px, 1px, 1px);height: 1px;margin: -1px;overflow: hidden;padding: 0;position: absolute;width: 1px;}#sk-container-id-22 div.sk-estimator {font-family: monospace;background-color: #f0f8ff;border: 1px dotted black;border-radius: 0.25em;box-sizing: border-box;margin-bottom: 0.5em;}#sk-container-id-22 div.sk-estimator:hover {background-color: #d4ebff;}#sk-container-id-22 div.sk-parallel-item::after {content: \"\";width: 100%;border-bottom: 1px solid gray;flex-grow: 1;}#sk-container-id-22 div.sk-label:hover label.sk-toggleable__label {background-color: #d4ebff;}#sk-container-id-22 div.sk-serial::before {content: \"\";position: absolute;border-left: 1px solid gray;box-sizing: border-box;top: 0;bottom: 0;left: 50%;z-index: 0;}#sk-container-id-22 div.sk-serial {display: flex;flex-direction: column;align-items: center;background-color: white;padding-right: 0.2em;padding-left: 0.2em;position: relative;}#sk-container-id-22 div.sk-item {position: relative;z-index: 1;}#sk-container-id-22 div.sk-parallel {display: flex;align-items: stretch;justify-content: center;background-color: white;position: relative;}#sk-container-id-22 div.sk-item::before, #sk-container-id-22 div.sk-parallel-item::before {content: \"\";position: absolute;border-left: 1px solid gray;box-sizing: border-box;top: 0;bottom: 0;left: 50%;z-index: -1;}#sk-container-id-22 div.sk-parallel-item {display: flex;flex-direction: column;z-index: 1;position: relative;background-color: white;}#sk-container-id-22 div.sk-parallel-item:first-child::after {align-self: flex-end;width: 50%;}#sk-container-id-22 div.sk-parallel-item:last-child::after {align-self: flex-start;width: 50%;}#sk-container-id-22 div.sk-parallel-item:only-child::after {width: 0;}#sk-container-id-22 div.sk-dashed-wrapped {border: 1px dashed gray;margin: 0 0.4em 0.5em 0.4em;box-sizing: border-box;padding-bottom: 0.4em;background-color: white;}#sk-container-id-22 div.sk-label label {font-family: monospace;font-weight: bold;display: inline-block;line-height: 1.2em;}#sk-container-id-22 div.sk-label-container {text-align: center;}#sk-container-id-22 div.sk-container {/* jupyter's `normalize.less` sets `[hidden] { display: none; }` but bootstrap.min.css set `[hidden] { display: none !important; }` so we also need the `!important` here to be able to override the default hidden behavior on the sphinx rendered scikit-learn.org. See: https://github.com/scikit-learn/scikit-learn/issues/21755 */display: inline-block !important;position: relative;}#sk-container-id-22 div.sk-text-repr-fallback {display: none;}</style><div id=\"sk-container-id-22\" class=\"sk-top-container\"><div class=\"sk-text-repr-fallback\"><pre>Pipeline(steps=[(&#x27;text_vect&#x27;, CountVectorizer(max_features=10)),\n",
              "                (&#x27;knn&#x27;, KNeighborsClassifier())])</pre><b>In a Jupyter environment, please rerun this cell to show the HTML representation or trust the notebook. <br />On GitHub, the HTML representation is unable to render, please try loading this page with nbviewer.org.</b></div><div class=\"sk-container\" hidden><div class=\"sk-item sk-dashed-wrapped\"><div class=\"sk-label-container\"><div class=\"sk-label sk-toggleable\"><input class=\"sk-toggleable__control sk-hidden--visually\" id=\"sk-estimator-id-64\" type=\"checkbox\" ><label for=\"sk-estimator-id-64\" class=\"sk-toggleable__label sk-toggleable__label-arrow\">Pipeline</label><div class=\"sk-toggleable__content\"><pre>Pipeline(steps=[(&#x27;text_vect&#x27;, CountVectorizer(max_features=10)),\n",
              "                (&#x27;knn&#x27;, KNeighborsClassifier())])</pre></div></div></div><div class=\"sk-serial\"><div class=\"sk-item\"><div class=\"sk-estimator sk-toggleable\"><input class=\"sk-toggleable__control sk-hidden--visually\" id=\"sk-estimator-id-65\" type=\"checkbox\" ><label for=\"sk-estimator-id-65\" class=\"sk-toggleable__label sk-toggleable__label-arrow\">CountVectorizer</label><div class=\"sk-toggleable__content\"><pre>CountVectorizer(max_features=10)</pre></div></div></div><div class=\"sk-item\"><div class=\"sk-estimator sk-toggleable\"><input class=\"sk-toggleable__control sk-hidden--visually\" id=\"sk-estimator-id-66\" type=\"checkbox\" ><label for=\"sk-estimator-id-66\" class=\"sk-toggleable__label sk-toggleable__label-arrow\">KNeighborsClassifier</label><div class=\"sk-toggleable__content\"><pre>KNeighborsClassifier()</pre></div></div></div></div></div></div></div>"
            ]
          },
          "metadata": {},
          "execution_count": 51
        }
      ],
      "source": [
        "from sklearn.pipeline import Pipeline\n",
        "from sklearn.feature_extraction.text import CountVectorizer\n",
        "from sklearn.feature_extraction.text import TfidfVectorizer\n",
        "from sklearn.neighbors import KNeighborsClassifier\n",
        "\n",
        "\n",
        "import gensim\n",
        "from gensim.models import Word2Vec\n",
        "### PIPELINE ###\n",
        "##########################\n",
        "w2v = gensim.models.Word2Vec()\n",
        "pipeline = Pipeline([\n",
        "    ('text_vect', CountVectorizer(binary=False,\n",
        "    #( 'text_vect', TfidfVectorizer(use_idf=TFalse,\n",
        "                                  max_features=10)),\n",
        "    ('knn', KNeighborsClassifier())\n",
        "                                ])\n",
        "\n",
        "\n",
        "# Visualize the pipeline\n",
        "# This will come in handy especially when building more complex pipelines, stringing together multiple preprocessing steps\n",
        "from sklearn import set_config\n",
        "set_config(display='diagram')\n",
        "pipeline"
      ]
    },
    {
      "cell_type": "code",
      "execution_count": null,
      "metadata": {
        "colab": {
          "base_uri": "https://localhost:8080/",
          "height": 124
        },
        "id": "H-W6qJG7acjm",
        "outputId": "2167be4c-3c48-4bc9-bf56-4f832beee94b"
      },
      "outputs": [
        {
          "output_type": "execute_result",
          "data": {
            "text/plain": [
              "Pipeline(steps=[('text_vect', CountVectorizer(max_features=10)),\n",
              "                ('knn', KNeighborsClassifier())])"
            ],
            "text/html": [
              "<style>#sk-container-id-23 {color: black;background-color: white;}#sk-container-id-23 pre{padding: 0;}#sk-container-id-23 div.sk-toggleable {background-color: white;}#sk-container-id-23 label.sk-toggleable__label {cursor: pointer;display: block;width: 100%;margin-bottom: 0;padding: 0.3em;box-sizing: border-box;text-align: center;}#sk-container-id-23 label.sk-toggleable__label-arrow:before {content: \"▸\";float: left;margin-right: 0.25em;color: #696969;}#sk-container-id-23 label.sk-toggleable__label-arrow:hover:before {color: black;}#sk-container-id-23 div.sk-estimator:hover label.sk-toggleable__label-arrow:before {color: black;}#sk-container-id-23 div.sk-toggleable__content {max-height: 0;max-width: 0;overflow: hidden;text-align: left;background-color: #f0f8ff;}#sk-container-id-23 div.sk-toggleable__content pre {margin: 0.2em;color: black;border-radius: 0.25em;background-color: #f0f8ff;}#sk-container-id-23 input.sk-toggleable__control:checked~div.sk-toggleable__content {max-height: 200px;max-width: 100%;overflow: auto;}#sk-container-id-23 input.sk-toggleable__control:checked~label.sk-toggleable__label-arrow:before {content: \"▾\";}#sk-container-id-23 div.sk-estimator input.sk-toggleable__control:checked~label.sk-toggleable__label {background-color: #d4ebff;}#sk-container-id-23 div.sk-label input.sk-toggleable__control:checked~label.sk-toggleable__label {background-color: #d4ebff;}#sk-container-id-23 input.sk-hidden--visually {border: 0;clip: rect(1px 1px 1px 1px);clip: rect(1px, 1px, 1px, 1px);height: 1px;margin: -1px;overflow: hidden;padding: 0;position: absolute;width: 1px;}#sk-container-id-23 div.sk-estimator {font-family: monospace;background-color: #f0f8ff;border: 1px dotted black;border-radius: 0.25em;box-sizing: border-box;margin-bottom: 0.5em;}#sk-container-id-23 div.sk-estimator:hover {background-color: #d4ebff;}#sk-container-id-23 div.sk-parallel-item::after {content: \"\";width: 100%;border-bottom: 1px solid gray;flex-grow: 1;}#sk-container-id-23 div.sk-label:hover label.sk-toggleable__label {background-color: #d4ebff;}#sk-container-id-23 div.sk-serial::before {content: \"\";position: absolute;border-left: 1px solid gray;box-sizing: border-box;top: 0;bottom: 0;left: 50%;z-index: 0;}#sk-container-id-23 div.sk-serial {display: flex;flex-direction: column;align-items: center;background-color: white;padding-right: 0.2em;padding-left: 0.2em;position: relative;}#sk-container-id-23 div.sk-item {position: relative;z-index: 1;}#sk-container-id-23 div.sk-parallel {display: flex;align-items: stretch;justify-content: center;background-color: white;position: relative;}#sk-container-id-23 div.sk-item::before, #sk-container-id-23 div.sk-parallel-item::before {content: \"\";position: absolute;border-left: 1px solid gray;box-sizing: border-box;top: 0;bottom: 0;left: 50%;z-index: -1;}#sk-container-id-23 div.sk-parallel-item {display: flex;flex-direction: column;z-index: 1;position: relative;background-color: white;}#sk-container-id-23 div.sk-parallel-item:first-child::after {align-self: flex-end;width: 50%;}#sk-container-id-23 div.sk-parallel-item:last-child::after {align-self: flex-start;width: 50%;}#sk-container-id-23 div.sk-parallel-item:only-child::after {width: 0;}#sk-container-id-23 div.sk-dashed-wrapped {border: 1px dashed gray;margin: 0 0.4em 0.5em 0.4em;box-sizing: border-box;padding-bottom: 0.4em;background-color: white;}#sk-container-id-23 div.sk-label label {font-family: monospace;font-weight: bold;display: inline-block;line-height: 1.2em;}#sk-container-id-23 div.sk-label-container {text-align: center;}#sk-container-id-23 div.sk-container {/* jupyter's `normalize.less` sets `[hidden] { display: none; }` but bootstrap.min.css set `[hidden] { display: none !important; }` so we also need the `!important` here to be able to override the default hidden behavior on the sphinx rendered scikit-learn.org. See: https://github.com/scikit-learn/scikit-learn/issues/21755 */display: inline-block !important;position: relative;}#sk-container-id-23 div.sk-text-repr-fallback {display: none;}</style><div id=\"sk-container-id-23\" class=\"sk-top-container\"><div class=\"sk-text-repr-fallback\"><pre>Pipeline(steps=[(&#x27;text_vect&#x27;, CountVectorizer(max_features=10)),\n",
              "                (&#x27;knn&#x27;, KNeighborsClassifier())])</pre><b>In a Jupyter environment, please rerun this cell to show the HTML representation or trust the notebook. <br />On GitHub, the HTML representation is unable to render, please try loading this page with nbviewer.org.</b></div><div class=\"sk-container\" hidden><div class=\"sk-item sk-dashed-wrapped\"><div class=\"sk-label-container\"><div class=\"sk-label sk-toggleable\"><input class=\"sk-toggleable__control sk-hidden--visually\" id=\"sk-estimator-id-67\" type=\"checkbox\" ><label for=\"sk-estimator-id-67\" class=\"sk-toggleable__label sk-toggleable__label-arrow\">Pipeline</label><div class=\"sk-toggleable__content\"><pre>Pipeline(steps=[(&#x27;text_vect&#x27;, CountVectorizer(max_features=10)),\n",
              "                (&#x27;knn&#x27;, KNeighborsClassifier())])</pre></div></div></div><div class=\"sk-serial\"><div class=\"sk-item\"><div class=\"sk-estimator sk-toggleable\"><input class=\"sk-toggleable__control sk-hidden--visually\" id=\"sk-estimator-id-68\" type=\"checkbox\" ><label for=\"sk-estimator-id-68\" class=\"sk-toggleable__label sk-toggleable__label-arrow\">CountVectorizer</label><div class=\"sk-toggleable__content\"><pre>CountVectorizer(max_features=10)</pre></div></div></div><div class=\"sk-item\"><div class=\"sk-estimator sk-toggleable\"><input class=\"sk-toggleable__control sk-hidden--visually\" id=\"sk-estimator-id-69\" type=\"checkbox\" ><label for=\"sk-estimator-id-69\" class=\"sk-toggleable__label sk-toggleable__label-arrow\">KNeighborsClassifier</label><div class=\"sk-toggleable__content\"><pre>KNeighborsClassifier()</pre></div></div></div></div></div></div></div>"
            ]
          },
          "metadata": {},
          "execution_count": 52
        }
      ],
      "source": [
        "# We using lists of processed text fields\n",
        "X_train = train_text_list\n",
        "X_test = test_text_list\n",
        "\n",
        "# Fit the Pipeline to training data\n",
        "pipeline.fit(X_train, y_train)\n"
      ]
    },
    {
      "cell_type": "markdown",
      "metadata": {
        "id": "rieXB-QtPcHq"
      },
      "source": [
        "## 3. Make predictions on your test dataset\n",
        "\n",
        "Once we select our best performing model, we can use it to make predictions on the test dataset. You can simply use __.fit()__ function with your training data to use the best performing K value and use __.predict()__ with your test data to get your test predictions."
      ]
    },
    {
      "cell_type": "code",
      "source": [
        "# Implement this\n",
        "from sklearn.metrics import confusion_matrix, classification_report, accuracy_score\n",
        "\n",
        "# Use the fitted pipeline to make predictions on the validation dataset\n",
        "val_predictions = pipeline.predict(X_test)\n",
        "print(confusion_matrix(y_test, val_predictions))\n",
        "print(classification_report(y_test, val_predictions))\n",
        "print(\"Accuracy (validation):\", accuracy_score(y_test, val_predictions))"
      ],
      "metadata": {
        "colab": {
          "base_uri": "https://localhost:8080/"
        },
        "id": "_8GxrkIi56gB",
        "outputId": "392e8787-0b80-4ac9-9eb6-7389f7178b5a"
      },
      "execution_count": null,
      "outputs": [
        {
          "output_type": "stream",
          "name": "stdout",
          "text": [
            "[[6358 6142]\n",
            " [5752 6748]]\n",
            "              precision    recall  f1-score   support\n",
            "\n",
            "           0       0.53      0.51      0.52     12500\n",
            "           1       0.52      0.54      0.53     12500\n",
            "\n",
            "    accuracy                           0.52     25000\n",
            "   macro avg       0.52      0.52      0.52     25000\n",
            "weighted avg       0.52      0.52      0.52     25000\n",
            "\n",
            "Accuracy (validation): 0.52424\n"
          ]
        }
      ]
    },
    {
      "cell_type": "markdown",
      "source": [
        "# Used excel to create tabel"
      ],
      "metadata": {
        "id": "BovOLpg5F-kT"
      }
    },
    {
      "cell_type": "markdown",
      "source": [
        "![Assignment 1 table .png](data:image/png;base64,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)"
      ],
      "metadata": {
        "id": "KCTfjz24MKId"
      }
    }
  ],
  "metadata": {
    "colab": {
      "provenance": [],
      "include_colab_link": true
    },
    "kernelspec": {
      "display_name": "conda_python3",
      "language": "python",
      "name": "conda_python3"
    },
    "language_info": {
      "codemirror_mode": {
        "name": "ipython",
        "version": 3
      },
      "file_extension": ".py",
      "mimetype": "text/x-python",
      "name": "python",
      "nbconvert_exporter": "python",
      "pygments_lexer": "ipython3",
      "version": "3.6.13"
    }
  },
  "nbformat": 4,
  "nbformat_minor": 0
}